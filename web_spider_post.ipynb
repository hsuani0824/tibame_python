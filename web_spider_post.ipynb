{
  "nbformat": 4,
  "nbformat_minor": 0,
  "metadata": {
    "colab": {
      "provenance": [],
      "authorship_tag": "ABX9TyOHmsXaU6nj/FMPMdkm/0aU",
      "include_colab_link": true
    },
    "kernelspec": {
      "name": "python3",
      "display_name": "Python 3"
    },
    "language_info": {
      "name": "python"
    }
  },
  "cells": [
    {
      "cell_type": "markdown",
      "metadata": {
        "id": "view-in-github",
        "colab_type": "text"
      },
      "source": [
        "<a href=\"https://colab.research.google.com/github/hsuani0824/tibame_python/blob/main/web_spider_post.ipynb\" target=\"_parent\"><img src=\"https://colab.research.google.com/assets/colab-badge.svg\" alt=\"Open In Colab\"/></a>"
      ]
    },
    {
      "cell_type": "code",
      "execution_count": 19,
      "metadata": {
        "id": "pjzfL1Q907hf",
        "colab": {
          "base_uri": "https://localhost:8080/"
        },
        "outputId": "209ebef2-8262-4a5a-9b67-4aaaf952bc8f"
      },
      "outputs": [
        {
          "name": "stdout",
          "output_type": "stream",
          "text": [
            "出發地? 台北\n",
            "目的地? 台中\n"
          ]
        }
      ],
      "source": [
        "from urllib import request, parse\n",
        "import json\n",
        "import pandas as pd\n",
        "from datetime import date, timedelta\n",
        "import os\n",
        "\n",
        "def download_timetable(start_station, end_station, search_date):\n",
        "    search_date_str = search_date.strftime('%Y/%m/%d')\n",
        "    payload = {\n",
        "        \"SearchType\" : \"S\",\n",
        "        \"Lang\" : \"TW\",\n",
        "        \"StartStation\" : start_station,\n",
        "        \"EndStation\" : end_station,\n",
        "        \"OutWardSearchDate\" : search_date_str,\n",
        "        \"OutWardSearchTime\" : \"09:00\",\n",
        "        \"ReturnSearchDate\" : \"2025/06/26\",\n",
        "        \"ReturnSearchTime\" : \"14:00\",\n",
        "        \"DiscountType\" : \"\",\n",
        "    }\n",
        "\n",
        "    req_json = parse.urlencode(payload).encode()\n",
        "    url = \"https://www.thsrc.com.tw/TimeTable/Search\"\n",
        "    req = request.Request(url, data=req_json)\n",
        "    res = request.urlopen(req)\n",
        "    content = json.load(res)\n",
        "    data = content[\"data\"]\n",
        "    trainItem = data[\"DepartureTable\"][\"TrainItem\"]\n",
        "\n",
        "    # pandas 存 csv\n",
        "    df = pd.DataFrame(trainItem)\n",
        "    # file_name = \"{}/{}_{}_{}.csv\".format(dirname, start_station, end_station, search_date.strftime('%Y%m%d'))\n",
        "    file_name = f\"{dirname}/{start_station}_{end_station}_{search_date.strftime('%Y%m%d')}.csv\"\n",
        "    df.to_csv(file_name, encoding=\"utf-8\")\n",
        "\n",
        "    # 取\"DepartureTime\"&\"Duration\"\n",
        "    # print(f\"date: {search_date_str}\")\n",
        "    # for item in trainItem:\n",
        "    #     print(f\"DepartureTime : {item['DepartureTime']}, Duration : {item['Duration']}\")\n",
        "    #     print(\"-\" * 30)\n",
        "\n",
        "def translate(input_station):\n",
        "    trans_dict = {\n",
        "        \"南港\" : \"NanGang\",\n",
        "        \"台北\" : \"TaiPei\",\n",
        "        \"板橋\" : \"BanQiao\",\n",
        "        \"桃園\" : \"TaoYuan\",\n",
        "        \"新竹\" : \"XinZhu\",\n",
        "        \"苗栗\" : \"MiaoLi\",\n",
        "        \"台中\" : \"TaiZhong\",\n",
        "        \"彰化\" : \"ZhangHua\",\n",
        "        \"雲林\" : \"YunLin\",\n",
        "        \"嘉義\" : \"JiaYi\",\n",
        "        \"台南\" : \"TaiNan\",\n",
        "        \"左營\" : \"ZuoYing\",\n",
        "    }\n",
        "    return trans_dict.get(input_station, \"TaiPei\")\n",
        "\n",
        "dirname = \"train timetable\"\n",
        "if not os.path.exists(dirname):\n",
        "    os.mkdir(dirname)\n",
        "\n",
        "start_station = translate(input(\"出發地? \"))\n",
        "end_station = translate(input(\"目的地? \"))\n",
        "for i in range(2):\n",
        "    search_date = date.today() + timedelta(days=i)\n",
        "    download_timetable(start_station, end_station, search_date)"
      ]
    }
  ]
}